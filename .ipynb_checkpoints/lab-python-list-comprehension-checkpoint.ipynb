{
 "cells": [
  {
   "cell_type": "markdown",
   "id": "25d7736c-ba17-4aff-b6bb-66eba20fbf4e",
   "metadata": {},
   "source": [
    "# Lab | List, Dict and Set Comprehension"
   ]
  },
  {
   "cell_type": "markdown",
   "id": "7dd3cbde-675a-4b81-92c3-f728846dbe06",
   "metadata": {},
   "source": [
    "## Exercise: Managing Customer Orders Optimized with Comprehension"
   ]
  },
  {
   "cell_type": "markdown",
   "id": "5d500160-2fb7-4777-b5e4-09d45ebaf328",
   "metadata": {},
   "source": [
    "In the previous exercise, you developed a program to manage customer orders and inventory. Now, let's take it a step further and incorporate comprehension into your code.\n",
    "\n",
    "Follow the steps below to complete the exercise:\n",
    "\n",
    "1. Review your code from the previous exercise and identify areas where you can apply comprehension to simplify and streamline your code. \n",
    "\n",
    "    - *Hint: Apply it to initialize inventory, updating the inventory and printing the updated inventory.*\n",
    "    \n",
    "    - For example, in initializing the inventory, we could have:\n",
    "    \n",
    "        ```python\n",
    "        def initialize_inventory(products):\n",
    "            inventory = {product: int(input(f\"Enter the quantity of {product}s available: \")) for product in products}\n",
    "            return inventory\n",
    "\n",
    "        ```\n",
    "<br>\n",
    "    \n",
    "    \n",
    "2. Modify the function get_customer_orders so it prompts the user to enter the number of customer orders and gathers the product names using a loop and user input. Use comprehension.\n",
    "\n",
    "3. Add a new function to calculate the total price of the customer order. For each product in customer_orders, prompt the user to enter the price of that product. Use comprehension to calculate the total price. Note: assume that the user can only have 1 unit of each product.\n",
    "\n",
    "4. Modify the update_inventory function to remove the product from the inventory if its quantity becomes zero after fulfilling the customer orders. Use comprehension to filter out the products with a quantity of zero from the inventory.\n",
    "\n",
    "5. Print the total price of the customer order.\n",
    "\n",
    "Your code should produce output similar to the following:\n",
    "\n",
    "```python\n",
    "Enter the quantity of t-shirts available:  5\n",
    "Enter the quantity of mugs available:  4\n",
    "Enter the quantity of hats available:  3\n",
    "Enter the quantity of books available:  2\n",
    "Enter the quantity of keychains available:  1\n",
    "Enter the number of customer orders:  2\n",
    "Enter the name of a product that a customer wants to order:  hat\n",
    "Enter the name of a product that a customer wants to order:  keychain\n",
    "\n",
    "Order Statistics:\n",
    "Total Products Ordered: 2\n",
    "Percentage of Unique Products Ordered: 40.0\n",
    "\n",
    "Updated Inventory:\n",
    "t-shirt: 5\n",
    "mug: 4\n",
    "hat: 2\n",
    "book: 2\n",
    "Enter the price of keychain:  5\n",
    "Enter the price of hat:  10\n",
    "Total Price: 15.0\n",
    "\n",
    "```\n"
   ]
  },
  {
   "cell_type": "code",
   "execution_count": 2,
   "id": "6eccc17d",
   "metadata": {},
   "outputs": [],
   "source": [
    "# 1. Review code to comprehension:\n",
    "\n",
    "products = (\"t-shirt\", \"mug\", \"hat\", \"book\", \"keychain\")\n",
    "products_inv = {\"t-shirt\":0, \"mug\":0, \"hat\":0, \"book\":0, \"keychain\":0}\n",
    "\n",
    "\n",
    "def initialize_inventory(products):\n",
    "    inventory = {product: int(input(f\"Enter the quantity of {product}s available: \")) for product in products}\n",
    "    return inventory\n"
   ]
  },
  {
   "cell_type": "code",
   "execution_count": 3,
   "id": "154c99f3",
   "metadata": {},
   "outputs": [
    {
     "name": "stdout",
     "output_type": "stream",
     "text": [
      "Enter the quantity of t-shirts available: 10\n",
      "Enter the quantity of mugs available: 20\n",
      "Enter the quantity of hats available: 30\n",
      "Enter the quantity of books available: 40\n",
      "Enter the quantity of keychains available: 50\n"
     ]
    }
   ],
   "source": [
    "initialized_inv=initialize_inventory(products)"
   ]
  },
  {
   "cell_type": "code",
   "execution_count": 4,
   "id": "785b5b79",
   "metadata": {},
   "outputs": [
    {
     "name": "stdout",
     "output_type": "stream",
     "text": [
      "Initialized Inventory: {'t-shirt': 10, 'mug': 20, 'hat': 30, 'book': 40, 'keychain': 50}\n"
     ]
    }
   ],
   "source": [
    "print(\"Initialized Inventory:\", initialized_inv)"
   ]
  },
  {
   "cell_type": "code",
   "execution_count": 5,
   "id": "466ec3c4",
   "metadata": {},
   "outputs": [],
   "source": [
    "# 2. Modify the function get_customer_orders so it prompts the user to enter the number of customer orders and \n",
    "#gathers the product names:\n",
    "\n",
    "def get_customer_orders():\n",
    "    num_orders = int(input(\"Enter the number of customer orders: \"))\n",
    "    customer_orders = {input(\"Enter the product: \") for _ in range(num_orders)}\n",
    "    return customer_orders\n"
   ]
  },
  {
   "cell_type": "code",
   "execution_count": 6,
   "id": "e366a151",
   "metadata": {},
   "outputs": [
    {
     "name": "stdout",
     "output_type": "stream",
     "text": [
      "Enter the number of customer orders: 2\n",
      "Enter the product: hat\n",
      "Enter the product: mug\n"
     ]
    }
   ],
   "source": [
    "customer_orders_ok = get_customer_orders()"
   ]
  },
  {
   "cell_type": "code",
   "execution_count": 7,
   "id": "ca42f6bd",
   "metadata": {
    "scrolled": true
   },
   "outputs": [
    {
     "name": "stdout",
     "output_type": "stream",
     "text": [
      "Customer Orders: {'hat', 'mug'}\n"
     ]
    }
   ],
   "source": [
    "print(\"Customer Orders:\", customer_orders_ok)"
   ]
  },
  {
   "cell_type": "code",
   "execution_count": 8,
   "id": "37a880fc",
   "metadata": {},
   "outputs": [],
   "source": [
    "# 3. Calculate the total price of the customer order:\n",
    "\n",
    "def calculate_total_price(customer_orders, inventory):\n",
    "    total_price = sum(float(input(f\"Enter the price for {product}: \")) for product in customer_orders)\n",
    "    return total_price"
   ]
  },
  {
   "cell_type": "code",
   "execution_count": 9,
   "id": "ffd2bad8",
   "metadata": {},
   "outputs": [
    {
     "name": "stdout",
     "output_type": "stream",
     "text": [
      "Enter the price for hat: 10\n",
      "Enter the price for mug: 15\n"
     ]
    }
   ],
   "source": [
    "intro_prices = calculate_total_price(customer_orders_ok, initialized_inv)"
   ]
  },
  {
   "cell_type": "code",
   "execution_count": 10,
   "id": "bf674966",
   "metadata": {},
   "outputs": [
    {
     "name": "stdout",
     "output_type": "stream",
     "text": [
      "Total Price of Customer Order: 25.0\n"
     ]
    }
   ],
   "source": [
    "print(\"Total Price of Customer Order:\", intro_prices)"
   ]
  },
  {
   "cell_type": "code",
   "execution_count": 11,
   "id": "10d91ce2",
   "metadata": {},
   "outputs": [],
   "source": [
    "# 4. Update Inventory\n",
    "\n",
    "def update_inventory(inventory, customer_orders):\n",
    "    updated_inventory = {product: inventory[product] - 1 for product in customer_orders}\n",
    "    updated_inventory = {product: quantity for product, quantity in updated_inventory.items() if quantity > 0}\n",
    "    return updated_inventory\n"
   ]
  },
  {
   "cell_type": "code",
   "execution_count": 12,
   "id": "fb1ca298",
   "metadata": {},
   "outputs": [
    {
     "name": "stdout",
     "output_type": "stream",
     "text": [
      "Updated Inventory: {'hat': 29, 'mug': 19}\n"
     ]
    }
   ],
   "source": [
    "updated_inv_ok = update_inventory(initialized_inv, customer_orders_ok)\n",
    "print(\"Updated Inventory:\", updated_inv_ok)"
   ]
  },
  {
   "cell_type": "code",
   "execution_count": 13,
   "id": "8f72a2c8",
   "metadata": {},
   "outputs": [],
   "source": [
    "# 5. Calculate Order Statistics\n",
    "\n",
    "def calculate_order_statistics(customer_orders, products):\n",
    "    total_products_ordered = len(customer_orders)\n",
    "    unique_products_ordered = len(set(customer_orders))\n",
    "    percentage_unique_products = (unique_products_ordered / len(products)) * 100\n",
    "    return total_products_ordered, percentage_unique_products"
   ]
  },
  {
   "cell_type": "code",
   "execution_count": 14,
   "id": "ebb59872",
   "metadata": {},
   "outputs": [],
   "source": [
    "total_ordered, percentage_unique = calculate_order_statistics(customer_orders_ok, products)"
   ]
  },
  {
   "cell_type": "code",
   "execution_count": 15,
   "id": "7370eed9",
   "metadata": {},
   "outputs": [
    {
     "name": "stdout",
     "output_type": "stream",
     "text": [
      "Order Statistics:\n",
      "Total Products Ordered: 2\n",
      "Percentage of Unique Products Ordered: 40.0\n"
     ]
    }
   ],
   "source": [
    "print(\"Order Statistics:\")\n",
    "print(\"Total Products Ordered:\", total_ordered)\n",
    "print(\"Percentage of Unique Products Ordered:\", percentage_unique)"
   ]
  }
 ],
 "metadata": {
  "kernelspec": {
   "display_name": "Python 3 (ipykernel)",
   "language": "python",
   "name": "python3"
  },
  "language_info": {
   "codemirror_mode": {
    "name": "ipython",
    "version": 3
   },
   "file_extension": ".py",
   "mimetype": "text/x-python",
   "name": "python",
   "nbconvert_exporter": "python",
   "pygments_lexer": "ipython3",
   "version": "3.9.7"
  }
 },
 "nbformat": 4,
 "nbformat_minor": 5
}
